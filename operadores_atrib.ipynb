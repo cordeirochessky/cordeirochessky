{
  "nbformat": 4,
  "nbformat_minor": 0,
  "metadata": {
    "colab": {
      "provenance": [],
      "authorship_tag": "ABX9TyP7lpPjuHmP8KMOWVWx0a4j",
      "include_colab_link": true
    },
    "kernelspec": {
      "name": "python3",
      "display_name": "Python 3"
    },
    "language_info": {
      "name": "python"
    }
  },
  "cells": [
    {
      "cell_type": "markdown",
      "metadata": {
        "id": "view-in-github",
        "colab_type": "text"
      },
      "source": [
        "<a href=\"https://colab.research.google.com/github/cordeirochessky/cordeirochessky/blob/Exerc%C3%ADcios-de-Python/operadores_atrib.ipynb\" target=\"_parent\"><img src=\"https://colab.research.google.com/assets/colab-badge.svg\" alt=\"Open In Colab\"/></a>"
      ]
    },
    {
      "cell_type": "code",
      "execution_count": 3,
      "metadata": {
        "id": "Qg-RELLcyeQJ"
      },
      "outputs": [],
      "source": [
        "x = 10 # Operador de atribuição"
      ]
    },
    {
      "cell_type": "code",
      "source": [
        "x = x + 2 # Não é uma equação. O primeiro x traz uma nova atribuição, em que o valor da variável declarada ('x=10'), o segundo 'x', é adicionado de 2"
      ],
      "metadata": {
        "id": "Lsh5Zl9kymc0"
      },
      "execution_count": 4,
      "outputs": []
    },
    {
      "cell_type": "code",
      "source": [
        "x # Aqui buscamos o valor atual da variável x, após a adição na atribuição"
      ],
      "metadata": {
        "colab": {
          "base_uri": "https://localhost:8080/"
        },
        "id": "2vjnTb5SzeFS",
        "outputId": "dae23e1d-d344-49f6-a63e-1911e692a925"
      },
      "execution_count": 6,
      "outputs": [
        {
          "output_type": "execute_result",
          "data": {
            "text/plain": [
              "12"
            ]
          },
          "metadata": {},
          "execution_count": 6
        }
      ]
    },
    {
      "cell_type": "code",
      "source": [
        "x += 2 # (x= x + 2) Aqui temos uma simplificação da operação anterior. O 'mais-igual' significa a busca pelo valor atual da variável e sua declaração nova depois da operação."
      ],
      "metadata": {
        "id": "TxqOUY2dze-Q"
      },
      "execution_count": 7,
      "outputs": []
    },
    {
      "cell_type": "code",
      "source": [
        "x"
      ],
      "metadata": {
        "colab": {
          "base_uri": "https://localhost:8080/"
        },
        "id": "-6thEHG70x8O",
        "outputId": "67e17728-0fe2-439d-a84e-8ebed33d6d7f"
      },
      "execution_count": 8,
      "outputs": [
        {
          "output_type": "execute_result",
          "data": {
            "text/plain": [
              "14"
            ]
          },
          "metadata": {},
          "execution_count": 8
        }
      ]
    },
    {
      "cell_type": "code",
      "source": [
        "x -= 10"
      ],
      "metadata": {
        "id": "amxkHUBq0yuG"
      },
      "execution_count": 9,
      "outputs": []
    },
    {
      "cell_type": "code",
      "source": [
        "x"
      ],
      "metadata": {
        "colab": {
          "base_uri": "https://localhost:8080/"
        },
        "id": "s4IS6wXN1HAY",
        "outputId": "cca2b955-49fd-49ac-f58b-ee247086e841"
      },
      "execution_count": 10,
      "outputs": [
        {
          "output_type": "execute_result",
          "data": {
            "text/plain": [
              "4"
            ]
          },
          "metadata": {},
          "execution_count": 10
        }
      ]
    },
    {
      "cell_type": "code",
      "source": [
        "x *= 2 # (x = x*2)"
      ],
      "metadata": {
        "id": "oMI-fkp51Hyo"
      },
      "execution_count": 16,
      "outputs": []
    },
    {
      "cell_type": "code",
      "source": [
        "x"
      ],
      "metadata": {
        "colab": {
          "base_uri": "https://localhost:8080/"
        },
        "id": "HwsUGFO01QCR",
        "outputId": "334cf532-fc24-47dc-b98e-dd9780e341c0"
      },
      "execution_count": 17,
      "outputs": [
        {
          "output_type": "execute_result",
          "data": {
            "text/plain": [
              "32"
            ]
          },
          "metadata": {},
          "execution_count": 17
        }
      ]
    },
    {
      "cell_type": "code",
      "source": [
        "x /= 4"
      ],
      "metadata": {
        "id": "ldePNekk1Rkh"
      },
      "execution_count": 18,
      "outputs": []
    },
    {
      "cell_type": "code",
      "source": [
        "x"
      ],
      "metadata": {
        "colab": {
          "base_uri": "https://localhost:8080/"
        },
        "id": "GL8t0cWw1pwq",
        "outputId": "dd86ba8b-adb1-4f74-d3d3-bd4a8dcab4a5"
      },
      "execution_count": 19,
      "outputs": [
        {
          "output_type": "execute_result",
          "data": {
            "text/plain": [
              "8.0"
            ]
          },
          "metadata": {},
          "execution_count": 19
        }
      ]
    },
    {
      "cell_type": "code",
      "source": [
        "int (x)"
      ],
      "metadata": {
        "colab": {
          "base_uri": "https://localhost:8080/"
        },
        "id": "4iMqrzHi1qU4",
        "outputId": "5957bb4a-4202-4ad5-8dbe-e20762713cc6"
      },
      "execution_count": 21,
      "outputs": [
        {
          "output_type": "execute_result",
          "data": {
            "text/plain": [
              "8"
            ]
          },
          "metadata": {},
          "execution_count": 21
        }
      ]
    },
    {
      "cell_type": "code",
      "source": [
        "x /= 2"
      ],
      "metadata": {
        "id": "tKZIa6sw1sMo"
      },
      "execution_count": 22,
      "outputs": []
    },
    {
      "cell_type": "code",
      "source": [
        "x"
      ],
      "metadata": {
        "colab": {
          "base_uri": "https://localhost:8080/"
        },
        "id": "fdBzBaO11zjv",
        "outputId": "ba5c1907-5381-4bbb-c374-a5899acea237"
      },
      "execution_count": 23,
      "outputs": [
        {
          "output_type": "execute_result",
          "data": {
            "text/plain": [
              "4.0"
            ]
          },
          "metadata": {},
          "execution_count": 23
        }
      ]
    },
    {
      "cell_type": "code",
      "source": [
        "x **= 2"
      ],
      "metadata": {
        "id": "HRceX_3z10T3"
      },
      "execution_count": 24,
      "outputs": []
    },
    {
      "cell_type": "code",
      "source": [
        "x"
      ],
      "metadata": {
        "colab": {
          "base_uri": "https://localhost:8080/"
        },
        "id": "whN5rZSs1_UI",
        "outputId": "cf83f2eb-2783-48fc-d082-07881ccf1af6"
      },
      "execution_count": 25,
      "outputs": [
        {
          "output_type": "execute_result",
          "data": {
            "text/plain": [
              "16.0"
            ]
          },
          "metadata": {},
          "execution_count": 25
        }
      ]
    },
    {
      "cell_type": "code",
      "source": [],
      "metadata": {
        "id": "ZZmNawGs1_2E"
      },
      "execution_count": null,
      "outputs": []
    }
  ]
}